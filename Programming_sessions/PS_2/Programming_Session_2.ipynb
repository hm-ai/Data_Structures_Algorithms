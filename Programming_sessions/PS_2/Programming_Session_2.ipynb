{
  "nbformat": 4,
  "nbformat_minor": 0,
  "metadata": {
    "colab": {
      "provenance": []
    },
    "kernelspec": {
      "name": "python3",
      "display_name": "Python 3"
    },
    "language_info": {
      "name": "python"
    }
  },
  "cells": [
    {
      "cell_type": "markdown",
      "metadata": {
        "id": "A84sSMXE3hbZ"
      },
      "source": [
        "\n",
        "# **<center> Data Structures and Algorithms </center>**\n",
        "\n",
        "\n",
        "## <center> Programming Session 2  </center>\n",
        "\n",
        "<table class=\"tfo-notebook-buttons\" align=\"center\">\n",
        "  <td>\n",
        "    <a target=\"_blank\" href=\"https://mlfbg.github.io/MachineLearningInFinance/\">\n",
        "    <img src=\"https://drive.google.com/uc?export=view&id=1VwSOlAniiEuf3V4SmLbpAJUSusTS9Orn\" height=\"50\"/>\n",
        "    Course page</a>\n",
        "</td>\n",
        "  <td>\n",
        "    <a target=\"_blank\" href=\"https://colab.research.google.com/drive/1mqoB_7h2H1da2F_BKfu94hR0FSIWSRRn?usp=sharing\"><img src=\"https://www.tensorflow.org/images/colab_logo_32px.png\" height=\"50\" />Run in Google Colab</a>\n",
        "  </td>\n",
        "</table>"
      ]
    },
    {
      "cell_type": "markdown",
      "source": [
        "# The Stable Matching Problem"
      ],
      "metadata": {
        "id": "yEk4_FARs8Ux"
      }
    },
    {
      "cell_type": "code",
      "source": [
        "import random\n",
        "import numpy as np\n",
        "import seaborn as sns\n",
        "import pandas as pd\n",
        "import matplotlib.pyplot as plt\n",
        "from statistics import mean, stdev\n",
        "import numpy as np\n",
        "from typing import List"
      ],
      "metadata": {
        "id": "mECivclbFmC9"
      },
      "execution_count": null,
      "outputs": []
    },
    {
      "cell_type": "markdown",
      "source": [
        "---\n",
        "## Introduction\n",
        "\n",
        "The **Stable Matching Problem** involves finding a pairing between two equally sized sets, **men** $M$ and **women** $W$, such that the matching $\\Phi$ is **stable**. A matching is stable if there is no **blocking pair** $(m, w)$, where:\n",
        "\n",
        "1. $m \\in M$ prefers $w$ over their current partner.  \n",
        "2. $w \\in W$ also prefers $m$ over their current partner.\n",
        "\n",
        "Each individual has a preference ranking for members of the opposite set. The goal is to achieve a pairing where no blocking pair exists.\n",
        "\n",
        "Below is an example representation of a matching problem. Each individual has their preferences listed, and the matching $\\Phi$ is represented with red lines.\n",
        "\n",
        "<center><img width=\"500\" src = \"https://drive.google.com/uc?export=view&id=1fei3C4TnGw22KjwjkEQhI3PsiqV8L0wm\"></center>\n",
        "\n",
        "\n",
        "\n",
        "Each individual in $\\mathcal{M}$ and $\\mathcal{W}$ has a **preference list** ranking members of the opposite set. These rankings reflect their relative desirability for being paired. A matching $\\Phi$ is said to be **stable** if:\n",
        "\n",
        "- Every participant is matched to exactly one partner.  \n",
        "- There is no **blocking pair** $(m, w)$, where:\n",
        "  - $m \\in \\mathcal{M}$ prefers $w$ over their current match in $\\Phi$.  \n",
        "  - $w \\in \\mathcal{W}$ also prefers $m$ over their current match in $\\Phi$.\n",
        "\n",
        "\n"
      ],
      "metadata": {
        "id": "7RAH7i2HmlHU"
      }
    },
    {
      "cell_type": "markdown",
      "source": [
        "\n",
        "\n",
        "\n",
        "A stable matching ensures that no individual can improve their outcome by abandoning their current match to form a new pair with someone else.\n",
        "\n",
        "\n",
        "## Real-World Applications\n",
        "\n",
        "The stable matching problem has practical applications in many domains, such as:\n",
        "\n",
        "- **Medical Residency Matching**: Graduating medical students are matched with hospitals based on mutual preferences.  \n",
        "- **University Admissions**: Students are paired with universities or programs.  \n",
        "- **Job Markets**: Job seekers and employers find mutually beneficial matches.  \n",
        "\n",
        "These scenarios highlight the importance of an efficient and fair algorithm to find stable matchings.\n",
        "\n",
        "\n",
        "\n",
        "## Preferences as Utilities\n",
        "\n",
        "In some cases, preferences can be expressed as **utility values** between $0$ and $1$, where higher numbers indicate greater desirability. For example, a man $m$ might assign a utility of $0.9$ to a woman $w_1$ (highly desirable) and $0.2$ to $w_2$ (less desirable).\n",
        "\n",
        "While utility values provide a quantitative perspective, the Gale-Shapley algorithm only considers **preference rankings** derived from these utilities.\n",
        "\n",
        "\n"
      ],
      "metadata": {
        "id": "ACkRsacEHqDi"
      }
    },
    {
      "cell_type": "markdown",
      "source": [
        "---\n",
        "<font color=green>Q1:</font>\n",
        "<br><font color='green'>\n",
        "Explain why the following figure is an example of an instability\n",
        "\n",
        "</font>\n",
        "\n",
        "---\n",
        "\n",
        "\n",
        "\n",
        "<center><img width=\"700\" src = \"https://drive.google.com/uc?export=view&id=1IfaBXrR2ccqOurXGlKfOMtWKJpr37p6g\"></center>\n",
        "\n",
        "\n"
      ],
      "metadata": {
        "id": "YBcnbOMxHxmJ"
      }
    },
    {
      "cell_type": "markdown",
      "source": [
        "---\n",
        "Answer:\n",
        "\n",
        "Mulan prefers Shang and Shang prefers Mulan too. They will both be happier if matched.\n",
        "\n",
        "---"
      ],
      "metadata": {
        "id": "Zwj9RwAuH5kj"
      }
    },
    {
      "cell_type": "markdown",
      "source": [
        "---\n",
        "<font color=green>Q2:</font>\n",
        "<br><font color='green'>\n",
        "Explain how we can derive the preference rankings from the utilities\n",
        "\n",
        "</font>\n",
        "\n",
        "---"
      ],
      "metadata": {
        "id": "wtJZxQ7xHsXy"
      }
    },
    {
      "cell_type": "markdown",
      "source": [
        "---\n",
        "Answer:\n",
        "\n",
        "From the natural order in $\\mathbb{R}$\n",
        "\n",
        "---"
      ],
      "metadata": {
        "id": "cnkIfM3dHbuN"
      }
    },
    {
      "cell_type": "markdown",
      "source": [
        "# The Gale-Shapley algorithm"
      ],
      "metadata": {
        "id": "jhGCvaPmtBCG"
      }
    },
    {
      "cell_type": "markdown",
      "source": [
        "## Vocabulary and Notation\n",
        "\n",
        "- **Men ($M$)**: A set of individuals labeled $m_1, m_2, \\dots, m_n$.  \n",
        "- **Women ($W$)**: A set of individuals labeled $w_1, w_2, \\dots, w_n$.  \n",
        "- **Matching ($\\Phi$)**: A set of pairs $(m, w)$ where $m \\in \\mathcal{M}$ and $w \\in \\mathcal{W}$, such that each individual appears in exactly one pair.  \n",
        "- **Preferences**: Lists ranking members of the opposite set, e.g., $m_1$'s preference list might be $w_2 > w_1 > w_3$.  \n",
        "\n",
        "---\n",
        "\n",
        "\n",
        "## The Gale-Shapley algorithm\n",
        "\n",
        "\n",
        "<center><img width=\"500\" src = \"https://drive.google.com/uc?export=view&id=1J7fMqpS1vYlhoDaHXtsGrbIEuGh0sp49\"></center>\n",
        "\n",
        "\n",
        "\n",
        "\n",
        "\n",
        "\n",
        "\n",
        "\n"
      ],
      "metadata": {
        "id": "LoPflmKzs3aX"
      }
    },
    {
      "cell_type": "markdown",
      "source": [
        "---\n",
        "<font color=green>Q3:</font>\n",
        "<br><font color='green'>\n",
        "Write the Gale-Shapley algorithm in Python following the pseudo-code provided. The algorithm should take as input the preferences of men and women and output the stable matching.\n",
        "\n",
        "</font>\n",
        "\n",
        "---\n",
        "\n"
      ],
      "metadata": {
        "id": "WGTjPMKqILvN"
      }
    },
    {
      "cell_type": "code",
      "source": [
        "def gale_shapley(men_preferences, women_preferences):\n",
        "    \"\"\"\n",
        "    Implementation of Gale-Shapley stable matching algorithm using preference matrices.\n",
        "\n",
        "    Args:\n",
        "        men_preferences: n x n matrix where men_preferences[i][j] is the jth choice of man i\n",
        "        women_preferences: n x n matrix where women_preferences[i][j] is the jth choice of woman i\n",
        "\n",
        "    Returns:\n",
        "        set: Stable matches as a set of tuples (man, woman).\n",
        "    \"\"\"\n",
        "    n = len(men_preferences)\n",
        "\n",
        "    # Initialize all men as free and track proposals\n",
        "    free_men = list(range(n))  # All men are initially free\n",
        "    proposals = np.zeros(n, dtype=int)  # Number of proposals made by each man\n",
        "    women_partners = [-1] * n  # women_partners[i] = j means woman i is matched to man j\n",
        "\n",
        "    # Main algorithm loop\n",
        "    while free_men:\n",
        "        m = free_men[0]  # Pick the first free man\n",
        "        # Get the next woman on his preference list\n",
        "        w = men_preferences[m][proposals[m]]\n",
        "        proposals[m] += 1  # Increment the proposal index for this man\n",
        "\n",
        "        if women_partners[w] == -1:\n",
        "            # Woman is free\n",
        "            women_partners[w] = m  # Engage the man and the woman\n",
        "            free_men.pop(0)  # Remove the man from the free list\n",
        "        else:\n",
        "            # Woman is already engaged\n",
        "            current_m = women_partners[w]\n",
        "            # Check if the woman prefers the new man to her current partner\n",
        "            if list(women_preferences[w]).index(m) < list(women_preferences[w]).index(current_m):\n",
        "                women_partners[w] = m  # Engage the new man\n",
        "                free_men.pop(0)  # Remove the new man from the free list\n",
        "                free_men.append(current_m)  # Add the current partner to the free list\n",
        "            # Otherwise, the woman rejects the new man (do nothing)\n",
        "\n",
        "    # Construct the matches as a set of tuples\n",
        "    matches = {(m, w) for w, m in enumerate(women_partners)}\n",
        "    return matches\n"
      ],
      "metadata": {
        "id": "n-4dkiPS8zem"
      },
      "execution_count": null,
      "outputs": []
    },
    {
      "cell_type": "markdown",
      "source": [
        "---\n",
        "<font color=green>Q4:</font>\n",
        "<br><font color='green'>\n",
        "What is the time complexity of the algorithm ?\n",
        "\n",
        "</font>\n",
        "\n",
        "---"
      ],
      "metadata": {
        "id": "MuQwIXxO-RCy"
      }
    },
    {
      "cell_type": "markdown",
      "source": [
        "---\n",
        "1. **Outer `while` Loop:**\n",
        "   - The loop iterates while there are free men.\n",
        "   - Each man can propose to at most \\(n\\) women (one proposal per woman in his preference list).\n",
        "   - Total iterations of the `while` loop: **\\(O(n^2)\\)**.\n",
        "\n",
        "2. **Inner Operation: `list.index()`**\n",
        "   - Inside the `if` condition:\n",
        "     ```python\n",
        "     if list(women_preferences[w]).index(m) < list(women_preferences[w]).index(current_m):\n",
        "     ```\n",
        "   - The `list.index()` method performs a linear search to find the rank of a man in a woman’s preference list.\n",
        "   - Searching in a list takes **\\(O(n)\\)** time.\n",
        "\n",
        "3. **Total Complexity:**\n",
        "   - In the worst case, every proposal requires a call to `list.index()`.\n",
        "   - There are at most \\(n^2\\) proposals (one for each pair of men and women), and each `list.index()` operation takes \\(O(n)\\) time.\n",
        "   - Total complexity:\n",
        "     \\[\n",
        "     O(n^2) \\times O(n) = O(n^3)\n",
        "     \\]\n",
        "\n",
        "\n",
        "---"
      ],
      "metadata": {
        "id": "skoZZKcZGDiH"
      }
    },
    {
      "cell_type": "markdown",
      "source": [
        "---\n",
        "<font color=green>Q5:</font>\n",
        "<br><font color='green'>\n",
        "Change the algorithm to change the complexity from $O(n^3)$ to $O(n^2)$\n",
        "\n",
        "</font>\n",
        "\n",
        "---"
      ],
      "metadata": {
        "id": "htWCPyKu-XYB"
      }
    },
    {
      "cell_type": "markdown",
      "source": [
        "By precomputing a rank matrix `women_ranks` for women’s preferences:\n",
        "- **Precomputing `women_ranks`:**\n",
        "  - Takes \\(O(n^2)\\) time to build the matrix.\n",
        "- **Comparison Using Rank Matrix:**\n",
        "  - Replace `list.index()` with:\n",
        "    ```python\n",
        "    if women_ranks[w][m] < women_ranks[w][current_m]:\n",
        "    ```\n",
        "  - This comparison is \\(O(1)\\).\n",
        "\n",
        "Total Complexity of Optimized Algorithm\n",
        "\n",
        "- **Precomputing:** \\(O(n^2)\\).\n",
        "- **Main Loop:**\n",
        "  - At most \\(n^2\\) proposals × \\(O(1)\\) comparison = \\(O(n^2)\\).\n",
        "- **Total Complexity:**\n",
        "  \\[\n",
        "  O(n^2) + O(n^2) = O(n^2)\n",
        "  \\]\n",
        "\n",
        "---"
      ],
      "metadata": {
        "id": "bMgX1hMDGSlh"
      }
    },
    {
      "cell_type": "code",
      "source": [
        "def gale_shapley_efficient(men_preferences, women_preferences):\n",
        "    \"\"\"\n",
        "    Implementation of Gale-Shapley stable matching algorithm using preference matrices.\n",
        "\n",
        "    Args:\n",
        "        men_preferences: n x n matrix where men_preferences[i][j] is the jth choice of man i\n",
        "        women_preferences: n x n matrix where women_preferences[i][j] is the jth choice of woman i\n",
        "\n",
        "    Returns:\n",
        "        dict: Stable matches where keys are men (0 to n-1) and values are women (0 to n-1)\n",
        "    \"\"\"\n",
        "    n = len(men_preferences)\n",
        "\n",
        "    # Create rank matrices for O(1) preference comparison\n",
        "    women_ranks = np.zeros((n, n), dtype=int)\n",
        "    for i in range(n):\n",
        "        for j in range(n):\n",
        "            women_ranks[i][women_preferences[i][j]] = j\n",
        "\n",
        "    # Initialize all men as free and track proposals\n",
        "    free_men = list(range(n))  # All men are initially free\n",
        "    proposals = np.zeros(n, dtype=int)  # Number of proposals made by each man\n",
        "    women_partners = [-1] * n  # women_partners[i] = j means woman i is matched to man j\n",
        "\n",
        "    # Main algorithm loop\n",
        "    while free_men:\n",
        "        m = free_men[0]  # Pick the first free man\n",
        "        # Get the next woman on his preference list\n",
        "        w = men_preferences[m][proposals[m]]\n",
        "        proposals[m] += 1  # Increment the proposal index for this man\n",
        "\n",
        "        if women_partners[w] == -1:\n",
        "            # Woman is free\n",
        "            women_partners[w] = m  # Engage the man and the woman\n",
        "            free_men.pop(0)  # Remove the man from the free list\n",
        "        else:\n",
        "            # Woman is already engaged\n",
        "            current_m = women_partners[w]\n",
        "            # If the woman prefers the new man to her current partner\n",
        "            if women_ranks[w][m] < women_ranks[w][current_m]:\n",
        "                women_partners[w] = m  # Engage the new man\n",
        "                free_men.pop(0)  # Remove the new man from the free list\n",
        "                free_men.append(current_m)  # Add the current partner to the free list\n",
        "\n",
        "    # Construct the matches as a dictionary\n",
        "    matches = {m: w for w, m in enumerate(women_partners)}\n",
        "    return matches"
      ],
      "metadata": {
        "id": "v3HduQP8-QQ0"
      },
      "execution_count": null,
      "outputs": []
    },
    {
      "cell_type": "markdown",
      "source": [
        "---\n",
        "<font color=green>Q6:</font>\n",
        "<br><font color='green'>\n",
        "Apply the Gale-Shapley algorithm to the following preference lists and provide the resulting stable matching.\n",
        "\n",
        "</font>\n",
        "\n",
        "---\n",
        "\n",
        "<center><img width=\"500\" src = \"https://drive.google.com/uc?export=view&id=1sXV8X-cdAe-oIDUcQEJjZBykBNYs27Yj\"></center>\n",
        "\n",
        "\n"
      ],
      "metadata": {
        "id": "4c5Az1aGu4_d"
      }
    },
    {
      "cell_type": "code",
      "source": [
        "# Step 1: Dictionaries for Men and Women\n",
        "men_to_int = {\n",
        "    \"Ross\": 0,\n",
        "    \"Chandler\": 1,\n",
        "    \"Joey\": 2\n",
        "}\n",
        "\n",
        "women_to_int = {\n",
        "    \"Rachel\": 0,\n",
        "    \"Phoebe\": 1,\n",
        "    \"Monica\": 2\n",
        "}\n",
        "\n",
        "# Reverse mappings for output\n",
        "int_to_men = {v: k for k, v in men_to_int.items()}\n",
        "int_to_women = {v: k for k, v in women_to_int.items()}"
      ],
      "metadata": {
        "id": "de5kNT5x2FJB"
      },
      "execution_count": null,
      "outputs": []
    },
    {
      "cell_type": "code",
      "source": [
        "# Men's preferences matrix\n",
        "men_preferences = np.array([\n",
        "    [0, 1, 2],  # Ross: Rachel > Phoebe > Monica\n",
        "    [0, 2, 1],  # Chandler: Rachel > Monica > Phoebe\n",
        "    [0, 2, 1]   # Joey: Rachel > Monica > Phoebe\n",
        "])\n",
        "\n",
        "# Women's preferences matrix\n",
        "women_preferences = np.array([\n",
        "    [0, 1, 2],  # Rachel: Ross > Chandler > Joey\n",
        "    [1, 0, 2],  # Phoebe: Chandler > Ross > Joey\n",
        "    [1, 2, 0]   # Monica: Chandler > Joey > Ross\n",
        "])"
      ],
      "metadata": {
        "id": "2cbNtC8u2-Rn"
      },
      "execution_count": null,
      "outputs": []
    },
    {
      "cell_type": "code",
      "source": [
        "# Run the algorithm\n",
        "stable_matching = gale_shapley(men_preferences, women_preferences)\n",
        "\n",
        "print(\"Gale-Shapley Couples:\")\n",
        "print(\"--------------------\")\n",
        "# Convert the set of tuples into a formatted output\n",
        "for (man, woman) in stable_matching:\n",
        "    print(f\"{int_to_men[man]} is matched with {int_to_women[woman]}\")"
      ],
      "metadata": {
        "colab": {
          "base_uri": "https://localhost:8080/"
        },
        "id": "ZtPa47QIIrGD",
        "outputId": "fa9333c2-c326-4089-ab0c-2222e7dc149d"
      },
      "execution_count": null,
      "outputs": [
        {
          "output_type": "stream",
          "name": "stdout",
          "text": [
            "Gale-Shapley Couples:\n",
            "--------------------\n",
            "Chandler is matched with Monica\n",
            "Joey is matched with Phoebe\n",
            "Ross is matched with Rachel\n"
          ]
        }
      ]
    },
    {
      "cell_type": "markdown",
      "source": [
        "---\n",
        "<font color=green>Q7:</font>\n",
        "<br><font color='green'>\n",
        "Compare the result of your code to the one obtained during the lecture.\n",
        "\n",
        "</font>\n",
        "\n",
        "---\n",
        "\n",
        "<center><img width=\"500\" src = \"https://drive.google.com/uc?export=view&id=1y0gNgdNUEw0N9NSK2QItr8JcPR1biyoJ\"></center>\n",
        "\n"
      ],
      "metadata": {
        "id": "j8WXPeTs3Lod"
      }
    },
    {
      "cell_type": "markdown",
      "source": [
        "# Optimality of the Gale-Shapley algorithm"
      ],
      "metadata": {
        "id": "sXyCuccU1OWK"
      }
    },
    {
      "cell_type": "markdown",
      "source": [
        "### Analyzing the Fairness of the Gale-Shapley Matching Algorithm for Students and Universities\n",
        "\n",
        "If we use the Gale-Shapley transformation, $\\phi_{GS}$, in high-stakes applications like matching students to universities, does it significantly matter which side is the proposer? In theoretical toy examples, it does make a noticeable difference; in some cases, the universities (acceptors) received only 60% of their potential utility, while the students (proposers) received up to 100%.\n",
        "\n",
        "To investigate this question, we analyze randomized preference arrays and evaluate their performance. However, these arrays should not be entirely random—they should abstractly reflect certain properties of the real world:\n",
        "\n",
        "- **Common Value**: Some choices have intrinsic attributes that make them broadly desirable (or undesirable). For example, Harvard University might be universally regarded as an exceptional choice for many students. This universal appeal is captured by the **common factor** $\\theta$.\n",
        "- **Private Value**: Some choices have unique attributes that appeal to specific individuals. For instance, a student may prefer a university close to their hometown, even if it isn't highly ranked. This represents the **private value** of a choice.\n",
        "- **Combination of Values**: Real-world scenarios often involve a mix of common and private values, where some choices are universally attractive while others cater to personal preferences.\n",
        "\n",
        "To simulate these preferences, the function `preferences_students_universities(N, 0.75)` generates an $N \\times N$ array of preferences. Each preference is determined as 75% common value ($\\theta = 0.75$) and 25% private value. The private value is modeled as proportional to the ID number ($a$) in the code, implying that universities are ordered by increasing quality based on their ID numbers.\n",
        "\n",
        "\n"
      ],
      "metadata": {
        "id": "7iUzBVtd1UAc"
      }
    },
    {
      "cell_type": "markdown",
      "source": [
        "---\n",
        "<font color=green>Q8:</font>\n",
        "<br><font color='green'>\n",
        "Write a function named `preprocess_preferences` that converts a preference matrix (with utilities as floating-point numbers) into ranked preferences (integer indices in descending order of preference).\n",
        "\n",
        "**Input**:  \n",
        "- A list of lists where each inner list represents an individual's preference scores for others (e.g., students' utilities for universities).  \n",
        "\n",
        "**Output**:  \n",
        "- A list of lists where each inner list contains integer indices ranked in descending order of preference.\n",
        "\n",
        "\n",
        "</font>\n",
        "\n",
        "---"
      ],
      "metadata": {
        "id": "3HMzk5A1A6C6"
      }
    },
    {
      "cell_type": "code",
      "source": [
        "def preprocess_preferences(preferences: List[List[float]]) -> List[List[int]]:\n",
        "    \"\"\"\n",
        "    Convert a preference matrix with utilities into ranked preferences.\n",
        "\n",
        "    Args:\n",
        "        preferences: A list of lists where preferences[i][j] is the utility of choice j for individual i.\n",
        "\n",
        "    Returns:\n",
        "        list[list[int]]: Ranked preferences where each row contains integer indices in descending order of preference.\n",
        "    \"\"\"\n",
        "    pass"
      ],
      "metadata": {
        "id": "GXG--bbzA-Z6",
        "colab": {
          "base_uri": "https://localhost:8080/",
          "height": 211
        },
        "outputId": "68dc1ef4-8d0d-4289-9082-218c27c04f5d"
      },
      "execution_count": 1,
      "outputs": [
        {
          "output_type": "error",
          "ename": "NameError",
          "evalue": "name 'List' is not defined",
          "traceback": [
            "\u001b[0;31m---------------------------------------------------------------------------\u001b[0m",
            "\u001b[0;31mNameError\u001b[0m                                 Traceback (most recent call last)",
            "\u001b[0;32m<ipython-input-1-2232464f2ea4>\u001b[0m in \u001b[0;36m<cell line: 1>\u001b[0;34m()\u001b[0m\n\u001b[0;32m----> 1\u001b[0;31m \u001b[0;32mdef\u001b[0m \u001b[0mpreprocess_preferences\u001b[0m\u001b[0;34m(\u001b[0m\u001b[0mpreferences\u001b[0m\u001b[0;34m:\u001b[0m \u001b[0mList\u001b[0m\u001b[0;34m[\u001b[0m\u001b[0mList\u001b[0m\u001b[0;34m[\u001b[0m\u001b[0mfloat\u001b[0m\u001b[0;34m]\u001b[0m\u001b[0;34m]\u001b[0m\u001b[0;34m)\u001b[0m \u001b[0;34m->\u001b[0m \u001b[0mList\u001b[0m\u001b[0;34m[\u001b[0m\u001b[0mList\u001b[0m\u001b[0;34m[\u001b[0m\u001b[0mint\u001b[0m\u001b[0;34m]\u001b[0m\u001b[0;34m]\u001b[0m\u001b[0;34m:\u001b[0m\u001b[0;34m\u001b[0m\u001b[0;34m\u001b[0m\u001b[0m\n\u001b[0m\u001b[1;32m      2\u001b[0m     \"\"\"\n\u001b[1;32m      3\u001b[0m     \u001b[0mConvert\u001b[0m \u001b[0ma\u001b[0m \u001b[0mpreference\u001b[0m \u001b[0mmatrix\u001b[0m \u001b[0;32mwith\u001b[0m \u001b[0mutilities\u001b[0m \u001b[0minto\u001b[0m \u001b[0mranked\u001b[0m \u001b[0mpreferences\u001b[0m\u001b[0;34m.\u001b[0m\u001b[0;34m\u001b[0m\u001b[0;34m\u001b[0m\u001b[0m\n\u001b[1;32m      4\u001b[0m \u001b[0;34m\u001b[0m\u001b[0m\n\u001b[1;32m      5\u001b[0m     \u001b[0mArgs\u001b[0m\u001b[0;34m:\u001b[0m\u001b[0;34m\u001b[0m\u001b[0;34m\u001b[0m\u001b[0m\n",
            "\u001b[0;31mNameError\u001b[0m: name 'List' is not defined"
          ]
        }
      ]
    },
    {
      "cell_type": "markdown",
      "source": [
        "---\n",
        "<font color=green>Q9:</font>\n",
        "<br><font color='green'>\n",
        "Write a function named `gale_shapley_preferences` that applies the Gale-Shapley stable matching algorithm after preprocessing preference matrices with `preprocess_preferences`.\n",
        "\n",
        "**Input**:  \n",
        "- Two preference matrices (e.g., one for students and one for universities) containing utility values as floating-point numbers.\n",
        "\n",
        "**Output**:  \n",
        "- A set of stable matches represented as tuples `(student, university)`.\n",
        "\n",
        "</font>\n",
        "\n",
        "---"
      ],
      "metadata": {
        "id": "Wd7JVCMaBGyQ"
      }
    },
    {
      "cell_type": "code",
      "source": [
        "def gale_shapley_preferences(student_preferences, university_preferences):\n",
        "    \"\"\"\n",
        "    Apply Gale-Shapley algorithm after preprocessing floating-point utilities into ranked preferences.\n",
        "\n",
        "    Args:\n",
        "        student_preferences: n x n matrix where student_preferences[i][j] is the utility of university j for student i.\n",
        "        university_preferences: n x n matrix where university_preferences[i][j] is the utility of student j for university i.\n",
        "\n",
        "    Returns:\n",
        "        set: Stable matches as a set of tuples (student, university).\n",
        "    \"\"\"\n",
        "    pass"
      ],
      "metadata": {
        "id": "tfmMSreV-8pm"
      },
      "execution_count": 2,
      "outputs": []
    },
    {
      "cell_type": "code",
      "source": [
        "# Example usage\n",
        "student_preferences = [\n",
        "    [0.8, 0.9, 0.5, 0.6],\n",
        "    [0.4, 0.3, 0.7, 0.2],\n",
        "    [0.9, 0.6, 0.8, 0.5],\n",
        "    [0.2, 0.1, 0.4, 0.3]\n",
        "]\n",
        "\n",
        "university_preferences = [\n",
        "    [0.7, 0.6, 0.9, 0.5],\n",
        "    [0.3, 0.8, 0.2, 0.4],\n",
        "    [0.9, 0.7, 0.6, 0.8],\n",
        "    [0.1, 0.2, 0.3, 0.4]\n",
        "]\n",
        "\n",
        "# Compute stable matches\n",
        "matches = gale_shapley_preferences(student_preferences, university_preferences)\n",
        "print(\"Stable matches:\", matches)"
      ],
      "metadata": {
        "id": "S1W8i7iZBFBq",
        "colab": {
          "base_uri": "https://localhost:8080/"
        },
        "outputId": "c9f3ae80-f506-4099-e9d9-22c446f6516b"
      },
      "execution_count": null,
      "outputs": [
        {
          "output_type": "stream",
          "name": "stdout",
          "text": [
            "Stable matches: {(1, 1), (0, 3), (2, 0), (3, 2)}\n"
          ]
        }
      ]
    },
    {
      "cell_type": "markdown",
      "source": [
        "---\n",
        "<font color=green>Q10:</font>\n",
        "<br><font color='green'>\n",
        "Write a function named `preferences_students_universities` that generates an NxN preference matrix for students and universities. The preferences should combine a common factor (weighted by \\(\theta\\)) and a private random factor (weighted by \\(1 - \theta\\)).\n",
        "\n",
        "**Input**:  \n",
        "- `N`: The number of students and universities.  \n",
        "- `theta`: The weight of the common factor.  \n",
        "\n",
        "**Output**:  \n",
        "- A list of lists where each row represents a student's utilities for all universities.\n",
        "\n",
        "\n",
        "</font>\n",
        "\n",
        "---"
      ],
      "metadata": {
        "id": "6KsvoocQAE7E"
      }
    },
    {
      "cell_type": "code",
      "source": [
        "def preferences_students_universities(N=25, theta=0.75):\n",
        "    \"\"\"\n",
        "    Create an NxN preference array for students and universities.\n",
        "\n",
        "    Args:\n",
        "        N (int): Number of students and universities (default: 25).\n",
        "        theta (float): Common factor weight, between 0 and 1 (default: 0.75).\n",
        "\n",
        "    Returns:\n",
        "        list[list[float]]: NxN array of preferences for students/universities.\n",
        "\n",
        "    The preferences are calculated as:\n",
        "        theta × common value + (1 - theta) × random private value.\n",
        "    \"\"\"\n",
        "    pass"
      ],
      "metadata": {
        "id": "lIcCX9mEAFLb"
      },
      "execution_count": 3,
      "outputs": []
    },
    {
      "cell_type": "markdown",
      "source": [
        "---\n",
        "<font color=green>Q11:</font>\n",
        "<br><font color='green'>\n",
        "Write a function named `examples_students_universities` that generates a list of pairs of preference matrices for students and universities.\n",
        "\n",
        "**Input**:  \n",
        "- `N`: The number of students and universities.  \n",
        "- `theta`: The weight of the common factor.  \n",
        "- `repeat`: The number of preference pairs to generate.  \n",
        "\n",
        "**Output**:  \n",
        "- A list of tuples where each tuple contains two NxN preference matrices.\n",
        "\n",
        "</font>\n",
        "\n",
        "---"
      ],
      "metadata": {
        "id": "Q_b5VctHAFSI"
      }
    },
    {
      "cell_type": "code",
      "source": [
        "def examples_students_universities(N=25, theta=0.5, repeat=10000):\n",
        "    \"\"\"\n",
        "    Generate a list of pairs of preference arrays for students and universities.\n",
        "\n",
        "    Args:\n",
        "        N (int): Number of students and universities (default: 25).\n",
        "        theta (float): Common factor weight, between 0 and 1 (default: 0.5).\n",
        "        repeat (int): Number of pairs to generate (default: 10,000).\n",
        "\n",
        "    Returns:\n",
        "        list[tuple]: List of tuples, where each tuple contains:\n",
        "                     - A preference array for students.\n",
        "                     - A preference array for universities.\n",
        "    \"\"\"\n",
        "    pass"
      ],
      "metadata": {
        "id": "P-XfLkcwAFZ-"
      },
      "execution_count": 4,
      "outputs": []
    },
    {
      "cell_type": "markdown",
      "source": [
        "---\n",
        "<font color=green>Q12:</font>\n",
        "<br><font color='green'>\n",
        "Write a function named `mean_utilities_students_universities` that calculates the mean utility for students and universities based on a stable matching.\n",
        "\n",
        "**Input**:  \n",
        "- Two preference matrices (one for students and one for universities).  \n",
        "\n",
        "**Output**:  \n",
        "- A tuple containing the mean utility for students and the mean utility for universities.\n",
        "\n",
        "</font>\n",
        "\n",
        "---"
      ],
      "metadata": {
        "id": "M7FegjPZBymO"
      }
    },
    {
      "cell_type": "code",
      "source": [
        "def mean_utilities_students_universities(student_preferences, university_preferences):\n",
        "    \"\"\"\n",
        "    Calculate mean utility for students and universities based on stable matching.\n",
        "\n",
        "    Args:\n",
        "        student_preferences: Preference matrix for students.\n",
        "        university_preferences: Preference matrix for universities.\n",
        "\n",
        "    Returns:\n",
        "        tuple: Mean utility for students and universities.\n",
        "    \"\"\"\n",
        "    pass"
      ],
      "metadata": {
        "id": "TSMxUPBU-FTU"
      },
      "execution_count": 5,
      "outputs": []
    },
    {
      "cell_type": "markdown",
      "source": [
        "---\n",
        "<font color=green>Q12:</font>\n",
        "<br><font color='green'>\n",
        "Write a function named `show_students_universities` that visualizes the utility distributions for students and universities using histograms. The function should also print the mean and standard deviation of utilities for both groups.\n",
        "\n",
        "**Input**:  \n",
        "- `N`: The number of students and universities.  \n",
        "- `theta`: The weight of the common factor.  \n",
        "- `repeat`: The number of simulations to generate.  \n",
        "- `bins`: The number of bins for the histograms.  \n",
        "\n",
        "**Output**:  \n",
        "- Two histograms (one for students and one for universities) and printed summary statistics (mean and standard deviation).\n",
        "\n",
        "</font>\n",
        "\n",
        "---"
      ],
      "metadata": {
        "id": "bj7TZ6aZCEjL"
      }
    },
    {
      "cell_type": "code",
      "source": [
        "def transpose(matrix):\n",
        "    \"\"\"\n",
        "    Transpose a matrix (helper function).\n",
        "\n",
        "    Args:\n",
        "        matrix: List of lists to transpose.\n",
        "\n",
        "    Returns:\n",
        "        list: Transposed matrix.\n",
        "    \"\"\"\n",
        "    return list(zip(*matrix))\n",
        "\n",
        "\n",
        "def show_students_universities(N=25, theta=0.5, repeat=10000, bins=50):\n",
        "    \"\"\"\n",
        "    Show histograms of mean utility values for students and universities.\n",
        "\n",
        "    Args:\n",
        "        N (int): Number of students and universities (default: 25).\n",
        "        theta (float): Common factor weight, between 0 and 1 (default: 0.5).\n",
        "        repeat (int): Number of simulations to generate (default: 10,000).\n",
        "        bins (int): Number of bins for the histograms (default: 50).\n",
        "\n",
        "    Returns:\n",
        "        None\n",
        "    \"\"\"\n",
        "    # Generate examples and calculate mean utilities\n",
        "    examples = examples_students_universities(N, theta, repeat)\n",
        "    student_utilities, university_utilities = transpose(\n",
        "        mean_utilities_students_universities(student_prefs, university_prefs)\n",
        "        for student_prefs, university_prefs in examples\n",
        "    )\n",
        "\n",
        "    # Prepare data for visualization\n",
        "    data = pd.DataFrame({\n",
        "        'Utility': list(student_utilities) + list(university_utilities),\n",
        "        'Group': ['Students'] * len(student_utilities) + ['Universities'] * len(university_utilities)\n",
        "    })\n",
        "\n",
        "    # Plot histograms using Seaborn\n",
        "    sns.histplot(data, x='Utility', hue='Group', bins=bins, alpha=0.5, kde=True)\n",
        "    plt.title(f'Utility Distribution (θ = {theta})')\n",
        "    plt.xlabel('Mean Utility')\n",
        "    plt.ylabel('Frequency')\n",
        "    plt.show()\n",
        "\n",
        "    # Print summary statistics\n",
        "    print(f'''{repeat:,d} examples with N = {N} students and universities, common factor weight θ = {theta}\n",
        "    Universities: Mean = {mean(university_utilities):.3f}, StdDev = {stdev(university_utilities):.3f}\n",
        "    Students: Mean = {mean(student_utilities):.3f}, StdDev = {stdev(student_utilities):.3f}''')"
      ],
      "metadata": {
        "id": "wEk5BE6XABF5"
      },
      "execution_count": null,
      "outputs": []
    },
    {
      "cell_type": "code",
      "source": [
        "# Example usage\n",
        "show_students_universities(N=25, theta=0.01, repeat=1000, bins=50)"
      ],
      "metadata": {
        "colab": {
          "base_uri": "https://localhost:8080/",
          "height": 524
        },
        "id": "xo0Mh_I1DjKP",
        "outputId": "82ba21fd-f429-448b-8c81-197096a01841"
      },
      "execution_count": null,
      "outputs": [
        {
          "output_type": "display_data",
          "data": {
            "text/plain": [
              "<Figure size 640x480 with 1 Axes>"
            ],
            "image/png": "[encoded data removed]"
          },
          "metadata": {}
        },
        {
          "output_type": "stream",
          "name": "stdout",
          "text": [
            "1,000 examples with N = 25 students and universities, common factor weight θ = 0.01\n",
            "    Universities: Mean = 0.725, StdDev = 0.063\n",
            "    Students: Mean = 0.867, StdDev = 0.034\n"
          ]
        }
      ]
    },
    {
      "cell_type": "code",
      "source": [
        "# Example usage\n",
        "show_students_universities(N=25, theta=0.5, repeat=1000, bins=50)"
      ],
      "metadata": {
        "colab": {
          "base_uri": "https://localhost:8080/",
          "height": 524
        },
        "id": "a8zY0zKBDkS2",
        "outputId": "3a4af58b-c5e2-446a-aed5-71bba1bf6c46"
      },
      "execution_count": null,
      "outputs": [
        {
          "output_type": "display_data",
          "data": {
            "text/plain": [
              "<Figure size 640x480 with 1 Axes>"
            ],
            "image/png": "[encoded data removed]"
          },
          "metadata": {}
        },
        {
          "output_type": "stream",
          "name": "stdout",
          "text": [
            "1,000 examples with N = 25 students and universities, common factor weight θ = 0.5\n",
            "    Universities: Mean = 0.622, StdDev = 0.021\n",
            "    Students: Mean = 0.637, StdDev = 0.019\n"
          ]
        }
      ]
    },
    {
      "cell_type": "code",
      "source": [
        "# Example usage\n",
        "show_students_universities(N=25, theta=0.99, repeat=1000, bins=50)"
      ],
      "metadata": {
        "colab": {
          "base_uri": "https://localhost:8080/",
          "height": 524
        },
        "id": "j-9u87NSDkXl",
        "outputId": "8f721fa3-5747-4daf-b223-c3e1afcfe09e"
      },
      "execution_count": null,
      "outputs": [
        {
          "output_type": "display_data",
          "data": {
            "text/plain": [
              "<Figure size 640x480 with 1 Axes>"
            ],
            "image/png": "[encoded data removed]"
          },
          "metadata": {}
        },
        {
          "output_type": "stream",
          "name": "stdout",
          "text": [
            "1,000 examples with N = 25 students and universities, common factor weight θ = 0.99\n",
            "    Universities: Mean = 0.500, StdDev = 0.001\n",
            "    Students: Mean = 0.500, StdDev = 0.001\n"
          ]
        }
      ]
    },
    {
      "cell_type": "markdown",
      "source": [
        "### Observations from the Analysis\n",
        "\n",
        "From the analysis, we find that:\n",
        "\n",
        "- **When There is a Lot of Common Value ($\\theta$ is High)**:\n",
        "  - The Gale-Shapley algorithm is almost fair.\n",
        "  - While the proposers (students) have a slight advantage, the difference in utility between students and universities is minimal.\n",
        "  - This suggests it is reasonable to use the algorithm for matching in scenarios with high common value, such as matching students to prestigious universities or medical residents to hospitals, where there is widespread agreement on the quality of the choices.\n",
        "\n",
        "- **When There is Mostly Private Value ($\\theta$ is Low)**:\n",
        "  - The algorithm becomes unfair, significantly favoring the proposers (students) over the acceptors (universities).\n",
        "  - This highlights the importance of considering the balance of common and private value when applying the Gale-Shapley algorithm in real-world scenarios.\n",
        "\n"
      ],
      "metadata": {
        "id": "Eum0i6-SDSoj"
      }
    },
    {
      "cell_type": "markdown",
      "source": [
        "### Conclusion\n",
        "\n",
        "In scenarios with high common value, the Gale-Shapley Matching Algorithm proves to be an effective and nearly fair method for matching students to universities. However, when private value dominates, the algorithm's fairness diminishes, favoring the proposers. Therefore, it is crucial to assess the balance between common and private values when using this algorithm for high-stakes applications."
      ],
      "metadata": {
        "id": "ZBihG0t4CtId"
      }
    },
    {
      "cell_type": "markdown",
      "source": [
        "### Contact\n",
        "\n",
        "If you have any questions regarding this notebook, do not hesitate to contact: hachem.madmoun@gmail.com"
      ],
      "metadata": {
        "id": "XWMfsx4KJr-_"
      }
    }
  ]
}