{
  "nbformat": 4,
  "nbformat_minor": 0,
  "metadata": {
    "colab": {
      "provenance": []
    },
    "kernelspec": {
      "name": "python3",
      "display_name": "Python 3"
    },
    "language_info": {
      "name": "python"
    }
  },
  "cells": [
    {
      "cell_type": "markdown",
      "metadata": {
        "id": "A84sSMXE3hbZ"
      },
      "source": [
        "\n",
        "# **<center> Data Structures and Algorithms </center>**\n",
        "\n",
        "\n",
        "## <center> Programming Session 2  </center>\n",
        "\n",
        "<table class=\"tfo-notebook-buttons\" align=\"center\">\n",
        "  <td>\n",
        "    <a target=\"_blank\" href=\"https://mlfbg.github.io/MachineLearningInFinance/\">\n",
        "    <img src=\"https://drive.google.com/uc?export=view&id=1VwSOlAniiEuf3V4SmLbpAJUSusTS9Orn\" height=\"50\"/>\n",
        "    Course page</a>\n",
        "</td>\n",
        "  <td>\n",
        "    <a target=\"_blank\" href=\"https://colab.research.google.com/drive/1QUp0us5X1HN2hCEyLtTdjLtcTRVWuYAJ?usp=sharing\"><img src=\"https://www.tensorflow.org/images/colab_logo_32px.png\" height=\"50\" />Run in Google Colab</a>\n",
        "  </td>\n",
        "</table>"
      ]
    },
    {
      "cell_type": "markdown",
      "source": [
        "# The Stable Matching Problem"
      ],
      "metadata": {
        "id": "yEk4_FARs8Ux"
      }
    },
    {
      "cell_type": "markdown",
      "source": [
        "---\n",
        "## Introduction\n",
        "\n",
        "The **Stable Matching Problem** involves finding a pairing between two equally sized sets, **men** $M$ and **women** $W$, such that the matching $\\Phi$ is **stable**. A matching is stable if there is no **blocking pair** $(m, w)$, where:\n",
        "\n",
        "1. $m \\in M$ prefers $w$ over their current partner.  \n",
        "2. $w \\in W$ also prefers $m$ over their current partner.\n",
        "\n",
        "Each individual has a preference ranking for members of the opposite set. The goal is to achieve a pairing where no blocking pair exists.\n",
        "\n",
        "Below is an example representation of a matching problem. Each individual has their preferences listed, and the matching $\\Phi$ is represented with red lines.\n",
        "\n",
        "<center><img width=\"500\" src = \"https://drive.google.com/uc?export=view&id=1fei3C4TnGw22KjwjkEQhI3PsiqV8L0wm\"></center>\n",
        "\n",
        "\n",
        "\n",
        "Each individual in $\\mathcal{M}$ and $\\mathcal{W}$ has a **preference list** ranking members of the opposite set. These rankings reflect their relative desirability for being paired. A matching $\\Phi$ is said to be **stable** if:\n",
        "\n",
        "- Every participant is matched to exactly one partner.  \n",
        "- There is no **blocking pair** $(m, w)$, where:\n",
        "  - $m \\in \\mathcal{M}$ prefers $w$ over their current match in $\\Phi$.  \n",
        "  - $w \\in \\mathcal{W}$ also prefers $m$ over their current match in $\\Phi$.\n",
        "\n",
        "\n"
      ],
      "metadata": {
        "id": "7RAH7i2HmlHU"
      }
    },
    {
      "cell_type": "markdown",
      "source": [
        "\n",
        "\n",
        "\n",
        "A stable matching ensures that no individual can improve their outcome by abandoning their current match to form a new pair with someone else.\n",
        "\n",
        "\n",
        "## Real-World Applications\n",
        "\n",
        "The stable matching problem has practical applications in many domains, such as:\n",
        "\n",
        "- **Medical Residency Matching**: Graduating medical students are matched with hospitals based on mutual preferences.  \n",
        "- **University Admissions**: Students are paired with universities or programs.  \n",
        "- **Job Markets**: Job seekers and employers find mutually beneficial matches.  \n",
        "\n",
        "These scenarios highlight the importance of an efficient and fair algorithm to find stable matchings.\n",
        "\n",
        "\n",
        "\n",
        "## Preferences as Utilities\n",
        "\n",
        "In some cases, preferences can be expressed as **utility values** between $0$ and $1$, where higher numbers indicate greater desirability. For example, a man $m$ might assign a utility of $0.9$ to a woman $w_1$ (highly desirable) and $0.2$ to $w_2$ (less desirable).\n",
        "\n",
        "While utility values provide a quantitative perspective, the Gale-Shapley algorithm only considers **preference rankings** derived from these utilities.\n",
        "\n",
        "\n"
      ],
      "metadata": {
        "id": "ACkRsacEHqDi"
      }
    },
    {
      "cell_type": "markdown",
      "source": [
        "---\n",
        "<font color=green>Q1:</font>\n",
        "<br><font color='green'>\n",
        "Explain why the following figure is an example of an instability\n",
        "\n",
        "</font>\n",
        "\n",
        "---\n",
        "\n",
        "\n",
        "\n",
        "<center><img width=\"700\" src = \"https://drive.google.com/uc?export=view&id=1IfaBXrR2ccqOurXGlKfOMtWKJpr37p6g\"></center>\n",
        "\n",
        "\n"
      ],
      "metadata": {
        "id": "YBcnbOMxHxmJ"
      }
    },
    {
      "cell_type": "markdown",
      "source": [
        "---\n",
        "Answer:\n",
        "\n",
        "\n",
        "---"
      ],
      "metadata": {
        "id": "Zwj9RwAuH5kj"
      }
    },
    {
      "cell_type": "markdown",
      "source": [
        "---\n",
        "<font color=green>Q2:</font>\n",
        "<br><font color='green'>\n",
        "Explain how we can derive the preference rankings from the utilities\n",
        "\n",
        "</font>\n",
        "\n",
        "---"
      ],
      "metadata": {
        "id": "wtJZxQ7xHsXy"
      }
    },
    {
      "cell_type": "markdown",
      "source": [
        "---\n",
        "Answer:\n",
        "\n",
        "---"
      ],
      "metadata": {
        "id": "cnkIfM3dHbuN"
      }
    },
    {
      "cell_type": "markdown",
      "source": [
        "# The Gale-Shapley algorithm"
      ],
      "metadata": {
        "id": "jhGCvaPmtBCG"
      }
    },
    {
      "cell_type": "markdown",
      "source": [
        "## Vocabulary and Notation\n",
        "\n",
        "- **Men ($M$)**: A set of individuals labeled $m_1, m_2, \\dots, m_n$.  \n",
        "- **Women ($W$)**: A set of individuals labeled $w_1, w_2, \\dots, w_n$.  \n",
        "- **Matching ($\\Phi$)**: A set of pairs $(m, w)$ where $m \\in \\mathcal{M}$ and $w \\in \\mathcal{W}$, such that each individual appears in exactly one pair.  \n",
        "- **Preferences**: Lists ranking members of the opposite set, e.g., $m_1$'s preference list might be $w_2 > w_1 > w_3$.  \n",
        "\n",
        "---\n",
        "\n",
        "\n",
        "## The Gale-Shapley algorithm\n",
        "\n",
        "\n",
        "<center><img width=\"500\" src = \"https://drive.google.com/uc?export=view&id=1J7fMqpS1vYlhoDaHXtsGrbIEuGh0sp49\"></center>\n",
        "\n",
        "\n",
        "\n",
        "\n",
        "\n",
        "\n",
        "\n",
        "\n"
      ],
      "metadata": {
        "id": "LoPflmKzs3aX"
      }
    },
    {
      "cell_type": "markdown",
      "source": [
        "---\n",
        "<font color=green>Q3:</font>\n",
        "<br><font color='green'>\n",
        "Write the Gale-Shapley algorithm in Python following the pseudo-code provided. The algorithm should take as input the preferences of men and women and output the stable matching.\n",
        "\n",
        "</font>\n",
        "\n",
        "---\n",
        "\n"
      ],
      "metadata": {
        "id": "WGTjPMKqILvN"
      }
    },
    {
      "cell_type": "code",
      "source": [
        "import numpy as np\n",
        "\n",
        "def gale_shapley(men_preferences, women_preferences):\n",
        "    \"\"\"\n",
        "    Implementation of Gale-Shapley stable matching algorithm using preference matrices.\n",
        "\n",
        "    Args:\n",
        "        men_preferences: n x n matrix where men_preferences[i][j] is the jth choice of man i\n",
        "        women_preferences: n x n matrix where women_preferences[i][j] is the jth choice of woman i\n",
        "\n",
        "    Returns:\n",
        "        dict: Stable matches where keys are men (0 to n-1) and values are women (0 to n-1)\n",
        "    \"\"\"\n",
        "    pass\n"
      ],
      "metadata": {
        "id": "bNiaCGX1ml1d"
      },
      "execution_count": 1,
      "outputs": []
    },
    {
      "cell_type": "markdown",
      "source": [
        "---\n",
        "<font color=green>Q4:</font>\n",
        "<br><font color='green'>\n",
        "What is the time complexity of the algorithm ?\n",
        "\n",
        "</font>\n",
        "\n",
        "---"
      ],
      "metadata": {
        "id": "MuQwIXxO-RCy"
      }
    },
    {
      "cell_type": "markdown",
      "source": [
        "---\n",
        "Answer\n",
        "\n",
        "---"
      ],
      "metadata": {
        "id": "skoZZKcZGDiH"
      }
    },
    {
      "cell_type": "markdown",
      "source": [
        "---\n",
        "<font color=green>Q5:</font>\n",
        "<br><font color='green'>\n",
        "Change the algorithm to change the complexity from $O(n^3)$ to $O(n^2)$\n",
        "\n",
        "</font>\n",
        "\n",
        "---"
      ],
      "metadata": {
        "id": "htWCPyKu-XYB"
      }
    },
    {
      "cell_type": "markdown",
      "source": [
        "---\n",
        "Answer\n",
        "\n",
        "---"
      ],
      "metadata": {
        "id": "bMgX1hMDGSlh"
      }
    },
    {
      "cell_type": "code",
      "source": [
        "def gale_shapley_efficient(men_preferences, women_preferences):\n",
        "    \"\"\"\n",
        "    Implementation of Gale-Shapley stable matching algorithm using preference matrices.\n",
        "\n",
        "    Args:\n",
        "        men_preferences: n x n matrix where men_preferences[i][j] is the jth choice of man i\n",
        "        women_preferences: n x n matrix where women_preferences[i][j] is the jth choice of woman i\n",
        "\n",
        "    Returns:\n",
        "        dict: Stable matches where keys are men (0 to n-1) and values are women (0 to n-1)\n",
        "    \"\"\"\n",
        "    pass"
      ],
      "metadata": {
        "id": "v3HduQP8-QQ0"
      },
      "execution_count": 2,
      "outputs": []
    },
    {
      "cell_type": "markdown",
      "source": [
        "---\n",
        "<font color=green>Q6:</font>\n",
        "<br><font color='green'>\n",
        "Apply the Gale-Shapley algorithm to the following preference lists and provide the resulting stable matching.\n",
        "\n",
        "</font>\n",
        "\n",
        "---\n",
        "\n",
        "<center><img width=\"500\" src = \"https://drive.google.com/uc?export=view&id=1sXV8X-cdAe-oIDUcQEJjZBykBNYs27Yj\"></center>\n",
        "\n",
        "\n"
      ],
      "metadata": {
        "id": "4c5Az1aGu4_d"
      }
    },
    {
      "cell_type": "code",
      "source": [
        "# Step 1: Dictionaries for Men and Women\n",
        "men_to_int = {\n",
        "    \"Ross\": 0,\n",
        "    \"Chandler\": 1,\n",
        "    \"Joey\": 2\n",
        "}\n",
        "\n",
        "women_to_int = {\n",
        "    \"Rachel\": 0,\n",
        "    \"Phoebe\": 1,\n",
        "    \"Monica\": 2\n",
        "}\n",
        "\n",
        "# Reverse mappings for output\n",
        "int_to_men = {v: k for k, v in men_to_int.items()}\n",
        "int_to_women = {v: k for k, v in women_to_int.items()}"
      ],
      "metadata": {
        "id": "de5kNT5x2FJB"
      },
      "execution_count": null,
      "outputs": []
    },
    {
      "cell_type": "code",
      "source": [
        "# Men's preferences matrix\n",
        "men_preferences = np.array([\n",
        "    [0, 1, 2],  # Ross: Rachel > Phoebe > Monica\n",
        "    [0, 2, 1],  # Chandler: Rachel > Monica > Phoebe\n",
        "    [0, 2, 1]   # Joey: Rachel > Monica > Phoebe\n",
        "])\n",
        "\n",
        "# Women's preferences matrix\n",
        "women_preferences = np.array([\n",
        "    [0, 1, 2],  # Rachel: Ross > Chandler > Joey\n",
        "    [1, 0, 2],  # Phoebe: Chandler > Ross > Joey\n",
        "    [1, 2, 0]   # Monica: Chandler > Joey > Ross\n",
        "])"
      ],
      "metadata": {
        "id": "2cbNtC8u2-Rn"
      },
      "execution_count": null,
      "outputs": []
    },
    {
      "cell_type": "code",
      "source": [
        "# Run the algorithm\n",
        "\n",
        "\n",
        "# Map integers back to character names and print the couples\n"
      ],
      "metadata": {
        "id": "36sAjmf_3CYa"
      },
      "execution_count": 3,
      "outputs": []
    },
    {
      "cell_type": "markdown",
      "source": [
        "---\n",
        "<font color=green>Q7:</font>\n",
        "<br><font color='green'>\n",
        "Compare the result of your code to the one obtained during the lecture.\n",
        "\n",
        "</font>\n",
        "\n",
        "---\n",
        "\n",
        "<center><img width=\"500\" src = \"https://drive.google.com/uc?export=view&id=1y0gNgdNUEw0N9NSK2QItr8JcPR1biyoJ\"></center>\n",
        "\n"
      ],
      "metadata": {
        "id": "j8WXPeTs3Lod"
      }
    },
    {
      "cell_type": "markdown",
      "source": [
        "### Contact\n",
        "\n",
        "If you have any questions regarding this notebook, do not hesitate to contact: hachem.madmoun@gmail.com"
      ],
      "metadata": {
        "id": "DM5HK6XDJwFb"
      }
    }
  ]
}